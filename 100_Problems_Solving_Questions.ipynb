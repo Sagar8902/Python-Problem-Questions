{
  "nbformat": 4,
  "nbformat_minor": 0,
  "metadata": {
    "colab": {
      "provenance": [],
      "authorship_tag": "ABX9TyOVSzPTDHa7UY6QX2czry4a",
      "include_colab_link": true
    },
    "kernelspec": {
      "name": "python3",
      "display_name": "Python 3"
    },
    "language_info": {
      "name": "python"
    }
  },
  "cells": [
    {
      "cell_type": "markdown",
      "metadata": {
        "id": "view-in-github",
        "colab_type": "text"
      },
      "source": [
        "<a href=\"https://colab.research.google.com/github/Sagar8902/Python-Problem-Questions/blob/main/100_Problems_Solving_Questions.ipynb\" target=\"_parent\"><img src=\"https://colab.research.google.com/assets/colab-badge.svg\" alt=\"Open In Colab\"/></a>"
      ]
    },
    {
      "cell_type": "markdown",
      "source": [
        "**Python Practice Problems**\n",
        "\n",
        "---\n",
        "\n",
        "\n",
        "\n",
        "---\n",
        "\n"
      ],
      "metadata": {
        "id": "XeO3WcavVeSY"
      }
    },
    {
      "cell_type": "markdown",
      "source": [
        "\n",
        "**1. User will input (3ages).Find the oldest one**"
      ],
      "metadata": {
        "id": "rJxarxMbU2pZ"
      }
    },
    {
      "cell_type": "code",
      "source": [
        "age_1 = int(input(\"Enter your age here: \"))\n",
        "age_2 = int(input(\"Enter your age here: \"))\n",
        "age_3 = int(input(\"Enter your age here: \"))\n",
        "\n",
        "if age_1 > age_2:\n",
        "  print(\"age_1 greater than others: \",age_1)\n",
        "elif age_2 > age_3:\n",
        "  print(\"age_2 greater than others: \",age_2)\n",
        "else:\n",
        "  print(\"age_3 greater than others: \",age_3)"
      ],
      "metadata": {
        "colab": {
          "base_uri": "https://localhost:8080/"
        },
        "id": "oiUzbQ50UzUv",
        "outputId": "e2dcb1d2-3b4c-4438-9fc7-c08b0bf1fb6e"
      },
      "execution_count": null,
      "outputs": [
        {
          "output_type": "stream",
          "name": "stdout",
          "text": [
            "Enter your age here: 54\n",
            "Enter your age here: 23\n",
            "Enter your age here: 18\n",
            "age_1 greater than others:  54\n"
          ]
        }
      ]
    },
    {
      "cell_type": "markdown",
      "source": [
        "**2. Write a program that will convert celsius value to fahrenheit**"
      ],
      "metadata": {
        "id": "OzEXjeFHXVaH"
      }
    },
    {
      "cell_type": "code",
      "source": [
        "C = int(input(\"Enter tremperature in celsius here: \"))\n",
        "\n",
        "F = ((9/5)*C)+32\n",
        "\n",
        "print(\"Temperature in fehrenheit: \", F)"
      ],
      "metadata": {
        "colab": {
          "base_uri": "https://localhost:8080/"
        },
        "id": "l1Xowk4XXdO2",
        "outputId": "7f52448f-9853-4414-c75e-35cf8ae28ef3"
      },
      "execution_count": null,
      "outputs": [
        {
          "output_type": "stream",
          "name": "stdout",
          "text": [
            "Enter tremperature in celsius here: 35\n",
            "Temperature in fehrenheit:  95.0\n"
          ]
        }
      ]
    },
    {
      "cell_type": "markdown",
      "source": [
        "**3. User will input (2numbers).Write a program to swap the numbers**"
      ],
      "metadata": {
        "id": "W1Wa2zf9cOhT"
      }
    },
    {
      "cell_type": "code",
      "source": [
        "num_1 = int(input(\"Enter Number_1 here: \"))\n",
        "num_2 = int(input(\"Enter Number_2 here: \"))\n",
        "print()\n",
        "print(\"swap the numbers\")\n",
        "\n",
        "temp = num_1\n",
        "\n",
        "num_1 = num_2\n",
        "num_2 = temp\n",
        "\n",
        "print(\"Number_1 = \",num_1)\n",
        "print(\"Number_2 = \",num_2)\n",
        "\n",
        "# print(\"Enter Number_1 = \",num_2)\n",
        "# print(\"Enter Number_2 = \",num_1)"
      ],
      "metadata": {
        "colab": {
          "base_uri": "https://localhost:8080/"
        },
        "id": "GTw8oRqzcRdi",
        "outputId": "13342fda-c581-42e3-8414-6436cdd86e41"
      },
      "execution_count": null,
      "outputs": [
        {
          "output_type": "stream",
          "name": "stdout",
          "text": [
            "Enter Number_1 here: 10\n",
            "Enter Number_2 here: 25\n",
            "\n",
            "swap the numbers\n",
            "Number_1 =  25\n",
            "Number_2 =  10\n"
          ]
        }
      ]
    },
    {
      "cell_type": "markdown",
      "source": [
        "**4. Write a program that will give you the sum of 3 digits**"
      ],
      "metadata": {
        "id": "uVdaYbb7dcGh"
      }
    },
    {
      "cell_type": "code",
      "source": [
        "num = int(input(\"Enter your 3 digit number here: \"))\n",
        "\n",
        "a = num % 10\n",
        "num = num // 10\n",
        "\n",
        "b = num % 10\n",
        "c = num // 10\n",
        "\n",
        "sum = a+b+c\n",
        "print(\"sum of 3 digit=\",sum)"
      ],
      "metadata": {
        "colab": {
          "base_uri": "https://localhost:8080/"
        },
        "id": "ZQx8e3neder3",
        "outputId": "c4ee239e-bed1-4f06-ec92-1af1ae76c648"
      },
      "execution_count": null,
      "outputs": [
        {
          "output_type": "stream",
          "name": "stdout",
          "text": [
            "Enter your 3 digit number here: 123\n",
            "sum of 3 digit= 6\n"
          ]
        }
      ]
    },
    {
      "cell_type": "markdown",
      "source": [
        "**5. Write a program that will reverse a four digit number.Also it checks whether the reverse is true.**\n"
      ],
      "metadata": {
        "id": "MEEwZ6w8eFoh"
      }
    },
    {
      "cell_type": "code",
      "source": [
        "user_input = int(input(\"Enter your 4 digit number here: \"))\n",
        "num = user_input\n",
        "\n",
        "a = num % 10\n",
        "num = num // 10\n",
        "\n",
        "b = num % 10\n",
        "num = num // 10\n",
        "\n",
        "c = num % 10\n",
        "d = num // 10\n",
        "\n",
        "rev = (a*1000) + (b*100) + (c*10) + (d)\n",
        "\n",
        "print()\n",
        "print(\"User Input: \", user_input)\n",
        "print(\"Reverse Number: \", rev)\n",
        "\n",
        "print()\n",
        "print(\"checks whether the reverse is true\")\n",
        "if (user_input != rev):\n",
        "  print(\"True\")\n",
        "else:\n",
        "  print(\"False\")"
      ],
      "metadata": {
        "colab": {
          "base_uri": "https://localhost:8080/"
        },
        "id": "gaNv4poxd91H",
        "outputId": "88bd3f94-7b71-4ff4-cfdf-4f6ef20c54a1"
      },
      "execution_count": null,
      "outputs": [
        {
          "output_type": "stream",
          "name": "stdout",
          "text": [
            "Enter your 4 digit number here: 1234\n",
            "\n",
            "User Input:  1234\n",
            "Reverse Number:  4321\n",
            "\n",
            "checks whether the reverse is true\n",
            "True\n"
          ]
        }
      ]
    },
    {
      "cell_type": "markdown",
      "source": [
        "**6. Write a program that will tell whether the number entered by the user is odd or even**"
      ],
      "metadata": {
        "id": "5dya4OIp4FP3"
      }
    },
    {
      "cell_type": "code",
      "source": [
        "num = int(input(\"Enter your number here: \"))\n",
        "\n",
        "if num % 2 == 0:\n",
        "  print(\"Number is even -\", num)\n",
        "else:\n",
        "  print(\"Number  is odd -\", num)"
      ],
      "metadata": {
        "colab": {
          "base_uri": "https://localhost:8080/"
        },
        "id": "r7LUC8sw4IHY",
        "outputId": "3e787ee4-cb71-423b-deff-0a7acde96a2d"
      },
      "execution_count": null,
      "outputs": [
        {
          "output_type": "stream",
          "name": "stdout",
          "text": [
            "Enter your number here: 11\n",
            "Number  is odd - 11\n"
          ]
        }
      ]
    },
    {
      "cell_type": "markdown",
      "source": [
        "**7. Write a program that will tell whether the given year is a leap year or not.**"
      ],
      "metadata": {
        "id": "VsjWJ0dE5dF-"
      }
    },
    {
      "cell_type": "code",
      "source": [
        "year = int(input(\"Enter your prefer year here :\"))\n",
        "\n",
        "print()\n",
        "if year % 4 == 0:\n",
        "  print(\">> Given year is a leap year <<\")\n",
        "else:\n",
        "  print(\">> Given year is not a year <<\")"
      ],
      "metadata": {
        "colab": {
          "base_uri": "https://localhost:8080/"
        },
        "id": "56x0UYYg5U52",
        "outputId": "f6599e91-70ca-4621-81ce-a3180ad18a1c"
      },
      "execution_count": null,
      "outputs": [
        {
          "output_type": "stream",
          "name": "stdout",
          "text": [
            "Enter your prefer year here :2024\n",
            "\n",
            ">> Given year is a leap year <<\n"
          ]
        }
      ]
    },
    {
      "cell_type": "markdown",
      "source": [
        "**8. Write a program to find the euclidean distance between two coordinates.**"
      ],
      "metadata": {
        "id": "aeulHQZR7V0V"
      }
    },
    {
      "cell_type": "code",
      "source": [
        "import math\n",
        "\n",
        "x1 = int(input(\"Enter the length of x1: \"))\n",
        "x2 = int(input(\"Enter the length of x2: \"))\n",
        "y1 = int(input(\"Enter the length of y1: \"))\n",
        "y2 = int(input(\"Enter the length of y2: \"))\n",
        "\n",
        "ed = ((x2 - x1)**2 + (y2 - y1)**2)\n",
        "ed_ = round(math.sqrt(ed),2)\n",
        "\n",
        "print()\n",
        "print(\"euclidean distance between two coordinates: \",ed_)"
      ],
      "metadata": {
        "colab": {
          "base_uri": "https://localhost:8080/"
        },
        "id": "0vDp4cfH57kF",
        "outputId": "3827416a-c1ae-4229-9c36-75480b3d3b7b"
      },
      "execution_count": null,
      "outputs": [
        {
          "output_type": "stream",
          "name": "stdout",
          "text": [
            "Enter the length of x1: 15\n",
            "Enter the length of x2: 25\n",
            "Enter the length of y1: 36\n",
            "Enter the length of y2: 40\n",
            "\n",
            "euclidean distance between two coordinates:  10.77\n"
          ]
        }
      ]
    },
    {
      "cell_type": "markdown",
      "source": [
        "**9. Write a program that take a user inpute of three angles and will find out whether it can form a triangle or not.**"
      ],
      "metadata": {
        "id": "-ln_gxyK-JY6"
      }
    },
    {
      "cell_type": "code",
      "source": [
        "A1 = int(input(\"Enter the angle_1 of the triangle: \"))\n",
        "A2 = int(input(\"Enter the angle_2 of the triangle: \"))\n",
        "A3 = int(input(\"Enter the angle_3 of the triangle: \"))\n",
        "\n",
        "print()\n",
        "if (A1+A2+A3 == 180):\n",
        "  print(\">> It is a Triangle <<\")\n",
        "else:\n",
        "  print(\">> It is not a Triangle <<\")\n"
      ],
      "metadata": {
        "colab": {
          "base_uri": "https://localhost:8080/"
        },
        "id": "dezF5uUn9SZT",
        "outputId": "c0bf689f-f6ca-40ab-c8ae-da4e4550e284"
      },
      "execution_count": null,
      "outputs": [
        {
          "output_type": "stream",
          "name": "stdout",
          "text": [
            "Enter the angle_1 of the triangle: 45\n",
            "Enter the angle_2 of the triangle: 45\n",
            "Enter the angle_3 of the triangle: 90\n",
            "\n",
            ">> It is a Triangle <<\n"
          ]
        }
      ]
    },
    {
      "cell_type": "markdown",
      "source": [
        "**10. Write a program that will take user input of cost price and selling price and determines whether its a loss or a profit**"
      ],
      "metadata": {
        "id": "5Pk3CGmvCYZ4"
      }
    },
    {
      "cell_type": "code",
      "source": [
        "cost = int(input(\"Enter your cost price here: \"))\n",
        "sell = int(input(\"Enter your selling price here: \"))\n",
        "\n",
        "print()\n",
        "\n",
        "if (sell > cost):\n",
        "  print(\">> Profit 💹 <<\",(sell - cost))\n",
        "else:\n",
        "  print(\">> Loss 😥 <<\",(sell - cost))\n"
      ],
      "metadata": {
        "colab": {
          "base_uri": "https://localhost:8080/"
        },
        "id": "pg7HV71t9Xva",
        "outputId": "464ff159-d13e-4050-9e8c-5e35df813223"
      },
      "execution_count": null,
      "outputs": [
        {
          "output_type": "stream",
          "name": "stdout",
          "text": [
            "Enter your cost price here: 480\n",
            "Enter your selling price here: 599\n",
            "\n",
            ">> Profit 💹 << 119\n"
          ]
        }
      ]
    },
    {
      "cell_type": "markdown",
      "source": [
        "**11. Write a program to find the simple interest when the value of principle,rate of interest and time period is given.**"
      ],
      "metadata": {
        "id": "svLeVmZlDtWe"
      }
    },
    {
      "cell_type": "code",
      "source": [
        "p = int(input(\"Enter your principle amount here: \"))\n",
        "r = int(input(\"Enter your rate of interest here: \"))\n",
        "t = int(input(\"Enter your time period in year here: \"))\n",
        "\n",
        "I = round((p*r*t)/100,2)\n",
        "\n",
        "print()\n",
        "print(f\"Your interest amount will be after {t} years :\", I)"
      ],
      "metadata": {
        "colab": {
          "base_uri": "https://localhost:8080/"
        },
        "id": "tgyVD75hDJk2",
        "outputId": "125622c7-38cc-4cdd-a247-c0178ad33f1d"
      },
      "execution_count": null,
      "outputs": [
        {
          "output_type": "stream",
          "name": "stdout",
          "text": [
            "Enter your principle amount here: 25000\n",
            "Enter your rate of interest here: 8\n",
            "Enter your time period in year here: 3\n",
            "\n",
            "Your interest amount will be after 3 years : 6000.0\n"
          ]
        }
      ]
    },
    {
      "cell_type": "markdown",
      "source": [
        "**12. Write a program to find the volume of the cylinder. Also find the cost when ,when the cost of 1litre milk is 40Rs.**"
      ],
      "metadata": {
        "id": "y6uR6YNaGCzP"
      }
    },
    {
      "cell_type": "code",
      "source": [
        "r = int(input(\"Enter the radius of cylinder here in cms: \"))\n",
        "h = int(input(\"Enter the height of cylinder here in cms: \"))\n",
        "\n",
        "V = 3.14*(r**2)*h\n",
        "\n",
        "print()\n",
        "print(f\">> Volume of cylinder is = {V} cms\")\n",
        "\n",
        "litre = round(V/1000.2)\n",
        "print()\n",
        "print(f\">> The capacity of cylinder is = {litre} litres\")\n",
        "\n",
        "cost = litre * 40\n",
        "print()\n",
        "print(f\">> The cost of cylinder is = {cost} rupees\")"
      ],
      "metadata": {
        "colab": {
          "base_uri": "https://localhost:8080/"
        },
        "id": "w3kH7-e3E5_U",
        "outputId": "45fdde21-3635-4aac-9975-9a7c75afb611"
      },
      "execution_count": null,
      "outputs": [
        {
          "output_type": "stream",
          "name": "stdout",
          "text": [
            "Enter the radius of cylinder here in cms: 20\n",
            "Enter the height of cylinder here in cms: 60\n",
            "\n",
            ">> Volume of cylinder is = 75360.0 cms\n",
            "\n",
            ">> The capacity of cylinder is = 75 litres\n",
            "\n",
            ">> The cost of cylinder is = 3000 rupees\n"
          ]
        }
      ]
    },
    {
      "cell_type": "markdown",
      "source": [
        "**13. Write  a program that will tell whether the given number is divisible by 3 & 6.**"
      ],
      "metadata": {
        "id": "9DZekkGWI8lq"
      }
    },
    {
      "cell_type": "code",
      "source": [
        "num = int(input(\"Enter your number here: \"))\n",
        "\n",
        "print()\n",
        "\n",
        "if num % 3 == 0 and num % 6 == 0:\n",
        "  print(\">> Given number is divisible by 3 & 6\")\n",
        "else:\n",
        "  print(\">> Given number is not divisible by 3 & 6\")"
      ],
      "metadata": {
        "colab": {
          "base_uri": "https://localhost:8080/"
        },
        "id": "aToXxxfbG4Zz",
        "outputId": "8eae7c43-81cb-40db-c40d-93a3a5303ee5"
      },
      "execution_count": null,
      "outputs": [
        {
          "output_type": "stream",
          "name": "stdout",
          "text": [
            "Enter your number here: 20\n",
            "\n",
            ">> Given number is not divisible by 3 & 6\n"
          ]
        }
      ]
    },
    {
      "cell_type": "markdown",
      "source": [
        "**16. Write a program that will determine weather when the value of temperature and humidity is provided by the user.**\n",
        "      (>= 30                             >=90                Hot and Humid),\n",
        "      (>= 30                             < 90                Hot),\n",
        "      (<30                               >= 90               Cool and Humid),\n",
        "      (<30                               <90                 Cool)\n"
      ],
      "metadata": {
        "id": "7PWD1l8Ujeav"
      }
    },
    {
      "cell_type": "code",
      "source": [
        "temp = int(input(\"Enter thr current  temperarure: \"))\n",
        "humid = int(input(\"Enter the current humidity: \"))\n",
        "\n",
        "print()\n",
        "\n",
        "if (temp >= 30 and humid >= 90):\n",
        "  print(\"Hot and Humid\")\n",
        "elif (temp >= 30 and humid < 90):\n",
        "  print(\"Hot\")\n",
        "elif (temp < 30 and humid >= 90):\n",
        "  print(\"Cool and Humid\")\n",
        "elif (temp < 30 and humid < 90):\n",
        "  print(\"Cool\")"
      ],
      "metadata": {
        "colab": {
          "base_uri": "https://localhost:8080/"
        },
        "id": "bOnOQnUjJjrJ",
        "outputId": "c030b4dd-4787-4b31-d3de-fd1c31f19882"
      },
      "execution_count": null,
      "outputs": [
        {
          "output_type": "stream",
          "name": "stdout",
          "text": [
            "Enter thr current  temperarure: 40\n",
            "Enter the current humidity: 50\n",
            "\n",
            "Hot\n"
          ]
        }
      ]
    },
    {
      "cell_type": "markdown",
      "source": [
        "**17. Write a program that will take three digits from the user and add the square of each digit.**"
      ],
      "metadata": {
        "id": "r5MKU379l6bb"
      }
    },
    {
      "cell_type": "code",
      "source": [
        "user_input = int(input(\"Enter your 3 digit number here: \"))\n",
        "num = user_input\n",
        "\n",
        "a = num % 10\n",
        "num = num // 10\n",
        "\n",
        "b = num % 10\n",
        "c = num // 10\n",
        "\n",
        "add = (c**2)+(b**2)+(a**2)\n",
        "print()\n",
        "\n",
        "print(\"Required number: \", add)\n"
      ],
      "metadata": {
        "colab": {
          "base_uri": "https://localhost:8080/"
        },
        "id": "8VE1veqUkeAM",
        "outputId": "62e56968-8bb2-454d-839f-2a87f34eae74"
      },
      "execution_count": null,
      "outputs": [
        {
          "output_type": "stream",
          "name": "stdout",
          "text": [
            "Enter your 3 digit number here: 123\n",
            "\n",
            "Required number:  14\n"
          ]
        }
      ]
    },
    {
      "cell_type": "markdown",
      "source": [
        "**18. Write a program that will check whether the number is armstrong number or not.**"
      ],
      "metadata": {
        "id": "oytCYbAjqCbg"
      }
    },
    {
      "cell_type": "code",
      "source": [
        "user_input = int(input(\"Enter your 3 digit number here: \"))\n",
        "num = user_input\n",
        "\n",
        "a = num % 10\n",
        "num = num // 10\n",
        "b = num % 10\n",
        "c = num // 10\n",
        "\n",
        "val = (c**3)+(b**3)+(a**3)\n",
        "\n",
        "print()\n",
        "if user_input == val:\n",
        "  print(\"Number is armstrong number\")\n",
        "else:\n",
        "  print(\"Number is not armstrong number\")\n"
      ],
      "metadata": {
        "colab": {
          "base_uri": "https://localhost:8080/"
        },
        "id": "BJF6cubnnLLy",
        "outputId": "9a730f25-6427-4e64-9603-470aa2b066fe"
      },
      "execution_count": null,
      "outputs": [
        {
          "output_type": "stream",
          "name": "stdout",
          "text": [
            "Enter your 3 digit number here: 370\n",
            "\n",
            "Number is armstrong number\n"
          ]
        }
      ]
    },
    {
      "cell_type": "markdown",
      "source": [
        "**19. Write a program that will take user input of (4 digits number) and check whether the number is narcissist number or not.**"
      ],
      "metadata": {
        "id": "fTJ8uiLvs7Ev"
      }
    },
    {
      "cell_type": "code",
      "source": [
        "user_input = int(input(\"Enter your 4 digit number here: \"))\n",
        "num = user_input\n",
        "\n",
        "a = num % 10\n",
        "num = num // 10\n",
        "b = num % 10\n",
        "num = num // 10\n",
        "c = num % 10\n",
        "d = num // 10\n",
        "\n",
        "val = (d**4)+(c**4)+(b**4)+(a**4)\n",
        "\n",
        "print()\n",
        "if user_input == val:\n",
        "  print(\"Number is narcissist number\")\n",
        "else:\n",
        "  print(\"Number is not narcissist number\")"
      ],
      "metadata": {
        "colab": {
          "base_uri": "https://localhost:8080/"
        },
        "id": "qmPPHbxgsCQl",
        "outputId": "8dbf1c62-ba0c-4497-917d-009f2d78a77d"
      },
      "execution_count": null,
      "outputs": [
        {
          "output_type": "stream",
          "name": "stdout",
          "text": [
            "Enter your 4 digit number here: 1634\n",
            "\n",
            "Number is narcissist number\n"
          ]
        }
      ]
    },
    {
      "cell_type": "markdown",
      "source": [
        "**20. Write a program that will give you the in hand salary after deduction of HRA(10%),DA(5%),PF(3%), and tax(if salary is between 5-10 lakh–10%),(11-20lakh–20%),(> 20 – 30%)(0-1lakh print k).**\n"
      ],
      "metadata": {
        "id": "JhG8PHxPvv2F"
      }
    },
    {
      "cell_type": "code",
      "source": [
        "salary = int(input(\"Enter your monthly salary: \"))\n",
        "package = float(input(\"Enter your annual package in lacs ex-3.3: \"))\n",
        "\n",
        "HRA = 0.1*salary\n",
        "DA = 0.05*salary\n",
        "PF = 0.03*salary\n",
        "\n",
        "net = salary - (HRA+DA+PF)\n",
        "\n",
        "if (package >= 5 and salary <= 10):\n",
        "  net -= 0.1*salary\n",
        "elif (package >= 11 and salary <= 20):\n",
        "  net -= 0.2*salary\n",
        "elif (package >= 20):\n",
        "  net -= 0.3*salary\n",
        "elif (package >= 0 and salary < 5):\n",
        "  net = net\n",
        "\n",
        "print()\n",
        "print(\"Your in hand salary after deduction =\",net)"
      ],
      "metadata": {
        "colab": {
          "base_uri": "https://localhost:8080/"
        },
        "id": "Xroci4D8szYN",
        "outputId": "96e62266-f053-42dc-ed08-132be23efd5b"
      },
      "execution_count": null,
      "outputs": [
        {
          "output_type": "stream",
          "name": "stdout",
          "text": [
            "Enter your monthly salary: 27000\n",
            "Enter your annual package in lacs ex-3.3: 3.24\n",
            "\n",
            "Your in hand salary after deduction = 22140.0\n"
          ]
        }
      ]
    },
    {
      "cell_type": "markdown",
      "source": [
        "**21. Write a menu driven program - 1.cm to ft  2.kl to miles  3.usd to inr  4.exit**"
      ],
      "metadata": {
        "id": "FjXhMNc41M_I"
      }
    },
    {
      "cell_type": "code",
      "source": [
        "print(\"values Convertor\")\n",
        "print(menu)\n",
        "\n",
        "menu = \"\"\"\n",
        "       1. cm to inches\n",
        "       2. kl to miles\n",
        "       3. usd to inr\n",
        "       4. exit\n",
        "\"\"\"\n",
        "\n",
        "num = int(input(\"Enter number from 1 to 4 here: \"))\n",
        "\n",
        "\n",
        "if num == 1:\n",
        "  cm = float(input(\"Enter value in cm here: \"))\n",
        "  inch = cm * 0.394\n",
        "  print(f\"{cm} cms = {inch} inches\")\n",
        "elif num == 2:\n",
        "  kl = float(input(\"Enter value in kilometers here: \"))\n",
        "  miles = kl * 0.621\n",
        "  print(f\"{kl} kilometers = {miles} miles\")\n",
        "elif num == 3:\n",
        "  usd = float(input(\"Enter value in USD here: \"))\n",
        "  inr = usd * 83.30\n",
        "  print(f\"{usd} usd = {inr} inr\")\n",
        "elif num == 4:\n",
        "  print(\"Exit\")\n",
        "\n"
      ],
      "metadata": {
        "colab": {
          "base_uri": "https://localhost:8080/"
        },
        "id": "5Iqfx5oHypBJ",
        "outputId": "2c5a5289-a892-4672-ddb0-04898eddda84"
      },
      "execution_count": null,
      "outputs": [
        {
          "output_type": "stream",
          "name": "stdout",
          "text": [
            "values Convertor\n",
            "\n",
            "       1. cm to inches\n",
            "       2. kl to miles\n",
            "       3. usd to inr\n",
            "       4. exit\n",
            "\n",
            "Enter number from 1 to 4 here: 1\n",
            "Enter value in cm here: 15\n",
            "15.0 cms = 5.91 inches\n"
          ]
        }
      ]
    },
    {
      "cell_type": "markdown",
      "source": [
        "**22. Write a program that will tell the number of dogs and chicken are there when the user will provide the value of total heads and legs.**"
      ],
      "metadata": {
        "id": "Yb2dRaKAAmuZ"
      }
    },
    {
      "cell_type": "code",
      "source": [],
      "metadata": {
        "id": "M4ohyxrh1D_O"
      },
      "execution_count": null,
      "outputs": []
    },
    {
      "cell_type": "markdown",
      "source": [
        "**23. Write a program that will swap numbers**"
      ],
      "metadata": {
        "id": "KAwE2pKABWId"
      }
    },
    {
      "cell_type": "code",
      "source": [
        "a = int(input(\"Enter your first number: \"))\n",
        "b = int(input(\"Enter your second number: \"))\n",
        "\n",
        "a = a + b\n",
        "b = a - b\n",
        "a = a - b\n",
        "print()\n",
        "print(\"values after swapping\")\n",
        "print(\"Value of first number: \", a)\n",
        "print(\"Value of second number: \", b)"
      ],
      "metadata": {
        "colab": {
          "base_uri": "https://localhost:8080/"
        },
        "id": "P7QlsAoGBX18",
        "outputId": "92a70f04-70e5-4cef-dd47-23ba30e82e61"
      },
      "execution_count": null,
      "outputs": [
        {
          "output_type": "stream",
          "name": "stdout",
          "text": [
            "Enter your first number: 6\n",
            "Enter your second number: 25\n",
            "\n",
            "values after swapping\n",
            "Value of first number:  25\n",
            "Value of second number:  6\n"
          ]
        }
      ]
    },
    {
      "cell_type": "markdown",
      "source": [
        "**24. Write a program to find the sum of first n numbers, where n will be provided by the user. Eg if the user provides n=10 the output should be 55**"
      ],
      "metadata": {
        "id": "LQ5pOpifEcjs"
      }
    },
    {
      "cell_type": "code",
      "source": [
        "n = int(input(\"Enter your number here: \"))\n",
        "\n",
        "s = (n * (n +1))/2\n",
        "\n",
        "print(\" sum of first n numbers: \",s)"
      ],
      "metadata": {
        "colab": {
          "base_uri": "https://localhost:8080/"
        },
        "id": "XFd_4_hPEYPx",
        "outputId": "18320b61-f5fa-4b90-d772-2af99b557e61"
      },
      "execution_count": null,
      "outputs": [
        {
          "output_type": "stream",
          "name": "stdout",
          "text": [
            "Enter your number here: 10\n",
            " sum of first n numbers:  55.0\n"
          ]
        }
      ]
    },
    {
      "cell_type": "markdown",
      "source": [
        "**25. Write a program that can multiply 2 numbers provided by the user without using the * operator**"
      ],
      "metadata": {
        "id": "WqOHFxIUGNvL"
      }
    },
    {
      "cell_type": "code",
      "source": [
        "first_num = int(input(\"Enter your first number: \"))\n",
        "second_num = int(input(\"Enter your second number: \"))\n",
        "sum = 0\n",
        "\n",
        "for i in range(0,first_num):\n",
        "  sum =  sum + second_num\n",
        "\n",
        "print()\n",
        "print(\"Your result is: \",sum)"
      ],
      "metadata": {
        "colab": {
          "base_uri": "https://localhost:8080/"
        },
        "id": "V4y6lQIVGGVI",
        "outputId": "e589875e-570a-4ec1-8f99-a72ced73ee97"
      },
      "execution_count": null,
      "outputs": [
        {
          "output_type": "stream",
          "name": "stdout",
          "text": [
            "Enter your first number: 4\n",
            "Enter your second number: 5\n",
            "\n",
            "Your result is:  20\n"
          ]
        }
      ]
    },
    {
      "cell_type": "markdown",
      "source": [
        "**26. Write a program that can find the factorial of a given number provided by the user.**"
      ],
      "metadata": {
        "id": "JkoBwHqCJUBA"
      }
    },
    {
      "cell_type": "code",
      "source": [
        "num = int(input(\"Enter your number here: \"))\n",
        "\n",
        "i = 1\n",
        "\n",
        "if num > 0:\n",
        "\n",
        "  while num >= 1:\n",
        "    i = i * num\n",
        "    num = num -  1\n",
        "  print(\"factorial of a given number is:\",i)\n",
        "\n",
        "else:\n",
        "  print(\"Invalid number\")\n"
      ],
      "metadata": {
        "colab": {
          "base_uri": "https://localhost:8080/"
        },
        "id": "wSe_dxpjI0Yt",
        "outputId": "14cf945d-6d43-459c-d77d-24b651756806"
      },
      "execution_count": null,
      "outputs": [
        {
          "output_type": "stream",
          "name": "stdout",
          "text": [
            "Enter your number here: 5\n",
            "factorial of a given number is: 120\n"
          ]
        }
      ]
    },
    {
      "cell_type": "markdown",
      "source": [
        "**27. Write a program to print the first 25 odd numbers**"
      ],
      "metadata": {
        "id": "pJJJC3-hOguE"
      }
    },
    {
      "cell_type": "code",
      "source": [
        "  flag = 0\n",
        "  i = 1\n",
        "\n",
        "  while True:\n",
        "    if (i % 2 != 0):\n",
        "      print(i)\n",
        "      flag += 1\n",
        "    if flag == 25:\n",
        "      break\n",
        "    i += 1"
      ],
      "metadata": {
        "colab": {
          "base_uri": "https://localhost:8080/"
        },
        "id": "USOl_lXrKZ3E",
        "outputId": "c8d91094-73cb-49af-a8ef-59336ac10e88"
      },
      "execution_count": null,
      "outputs": [
        {
          "output_type": "stream",
          "name": "stdout",
          "text": [
            "1\n",
            "3\n",
            "5\n",
            "7\n",
            "9\n",
            "11\n",
            "13\n",
            "15\n",
            "17\n",
            "19\n",
            "21\n",
            "23\n",
            "25\n",
            "27\n",
            "29\n",
            "31\n",
            "33\n",
            "35\n",
            "37\n",
            "39\n",
            "41\n",
            "43\n",
            "45\n",
            "47\n",
            "49\n"
          ]
        }
      ]
    },
    {
      "cell_type": "markdown",
      "source": [
        "**28. Write a program to print whether a given number is prime number or not**"
      ],
      "metadata": {
        "id": "eyPxCC7wQ1hk"
      }
    },
    {
      "cell_type": "code",
      "source": [
        "num = int(input(\"Enter your number here: \"))\n",
        "\n",
        "if num == 2:\n",
        "  print(num,\"is a prime number\")\n",
        "\n",
        "elif num > 1:\n",
        "  for i in range(2,num):\n",
        "    if (i % 2 == 0):\n",
        "      print(num,\"is not a prime number\")\n",
        "      break\n",
        "    else:\n",
        "      print(num,\"is a prime number\")\n",
        "      break\n",
        "else:\n",
        "  print(num,\"is not a prime number\")"
      ],
      "metadata": {
        "colab": {
          "base_uri": "https://localhost:8080/"
        },
        "id": "s3g8EEY-PP_p",
        "outputId": "5a8d4802-462e-4086-d25a-c2a9f6659dbb"
      },
      "execution_count": null,
      "outputs": [
        {
          "output_type": "stream",
          "name": "stdout",
          "text": [
            "Enter your number here: 140\n",
            "140 is not a prime number\n"
          ]
        }
      ]
    },
    {
      "cell_type": "markdown",
      "source": [
        "**29. Print all the armstrong numbers in the range of 100 to 1000**"
      ],
      "metadata": {
        "id": "00gY1fklmxSr"
      }
    },
    {
      "cell_type": "code",
      "source": [
        "for num in range(100,1000):\n",
        "\n",
        "  i = num\n",
        "  a = num % 10\n",
        "  num = num // 10\n",
        "  b = num % 10\n",
        "  c = num // 10\n",
        "\n",
        "  if (a**3)+(b**3)+(c**3) == i:\n",
        "    print(i)\n",
        "    i += 1\n",
        ""
      ],
      "metadata": {
        "id": "BR_bu9w-UNr2",
        "colab": {
          "base_uri": "https://localhost:8080/"
        },
        "outputId": "68775aa3-caf6-4f56-b553-4bdda83f7a16"
      },
      "execution_count": 1,
      "outputs": [
        {
          "output_type": "stream",
          "name": "stdout",
          "text": [
            "153\n",
            "370\n",
            "371\n",
            "407\n"
          ]
        }
      ]
    },
    {
      "cell_type": "markdown",
      "source": [
        "**30. The current population of a town is 10000. The population of the town is increasing at the rate of 10% per year. You have to write a program to find out the population at the end of each of the last 10 years. For eg current population is 10000 so the output should be like this:\n",
        "10th year - 10000\n",
        "9th year - 9000\n",
        "8th year - 8100 and so on**"
      ],
      "metadata": {
        "id": "g8G9kbTnGA8V"
      }
    },
    {
      "cell_type": "code",
      "source": [
        "flag = 0\n",
        "a = 10000\n",
        "print(a)\n",
        "\n",
        "while True:\n",
        "  b = (a) - (a * 0.10)\n",
        "  a = b\n",
        "  print(round(b,0))\n",
        "  flag += 1\n",
        "\n",
        "  if flag == 9:\n",
        "    break\n",
        "\n",
        "\n",
        "\n"
      ],
      "metadata": {
        "colab": {
          "base_uri": "https://localhost:8080/"
        },
        "id": "EZ8ophzwEg_G",
        "outputId": "c15b00d1-30c4-4d0f-9770-fad2ca6dedf7"
      },
      "execution_count": 5,
      "outputs": [
        {
          "output_type": "stream",
          "name": "stdout",
          "text": [
            "10000\n",
            "9000.0\n",
            "8100.0\n",
            "7290.0\n",
            "6561.0\n",
            "5905.0\n",
            "5314.0\n",
            "4783.0\n",
            "4305.0\n",
            "3874.0\n"
          ]
        }
      ]
    },
    {
      "cell_type": "markdown",
      "source": [
        "**31. Write a program to print all the unique combinations of 1,2,3 and 4**"
      ],
      "metadata": {
        "id": "iUPF3gdfKM0x"
      }
    },
    {
      "cell_type": "code",
      "source": [
        "print(\"unique combinations of 1,2,3 and 4\")\n",
        "for i in range(1,5):\n",
        "  for j in range(1,5):\n",
        "    for k in range(1,5):\n",
        "      for l in range(1,5):\n",
        "        if(i != j and i,j != k and i,j,k != l):\n",
        "          print(i,j,k,l)"
      ],
      "metadata": {
        "colab": {
          "base_uri": "https://localhost:8080/"
        },
        "id": "2aWb_hwrHNna",
        "outputId": "58eb6224-d7b7-4bed-ff6f-e9f20d3611c2"
      },
      "execution_count": 14,
      "outputs": [
        {
          "output_type": "stream",
          "name": "stdout",
          "text": [
            "unique combinations of 1,2,3 and 4\n",
            "1 1 1 1\n",
            "1 1 1 2\n",
            "1 1 1 3\n",
            "1 1 1 4\n",
            "1 1 2 1\n",
            "1 1 2 2\n",
            "1 1 2 3\n",
            "1 1 2 4\n",
            "1 1 3 1\n",
            "1 1 3 2\n",
            "1 1 3 3\n",
            "1 1 3 4\n",
            "1 1 4 1\n",
            "1 1 4 2\n",
            "1 1 4 3\n",
            "1 1 4 4\n",
            "1 2 1 1\n",
            "1 2 1 2\n",
            "1 2 1 3\n",
            "1 2 1 4\n",
            "1 2 2 1\n",
            "1 2 2 2\n",
            "1 2 2 3\n",
            "1 2 2 4\n",
            "1 2 3 1\n",
            "1 2 3 2\n",
            "1 2 3 3\n",
            "1 2 3 4\n",
            "1 2 4 1\n",
            "1 2 4 2\n",
            "1 2 4 3\n",
            "1 2 4 4\n",
            "1 3 1 1\n",
            "1 3 1 2\n",
            "1 3 1 3\n",
            "1 3 1 4\n",
            "1 3 2 1\n",
            "1 3 2 2\n",
            "1 3 2 3\n",
            "1 3 2 4\n",
            "1 3 3 1\n",
            "1 3 3 2\n",
            "1 3 3 3\n",
            "1 3 3 4\n",
            "1 3 4 1\n",
            "1 3 4 2\n",
            "1 3 4 3\n",
            "1 3 4 4\n",
            "1 4 1 1\n",
            "1 4 1 2\n",
            "1 4 1 3\n",
            "1 4 1 4\n",
            "1 4 2 1\n",
            "1 4 2 2\n",
            "1 4 2 3\n",
            "1 4 2 4\n",
            "1 4 3 1\n",
            "1 4 3 2\n",
            "1 4 3 3\n",
            "1 4 3 4\n",
            "1 4 4 1\n",
            "1 4 4 2\n",
            "1 4 4 3\n",
            "1 4 4 4\n",
            "2 1 1 1\n",
            "2 1 1 2\n",
            "2 1 1 3\n",
            "2 1 1 4\n",
            "2 1 2 1\n",
            "2 1 2 2\n",
            "2 1 2 3\n",
            "2 1 2 4\n",
            "2 1 3 1\n",
            "2 1 3 2\n",
            "2 1 3 3\n",
            "2 1 3 4\n",
            "2 1 4 1\n",
            "2 1 4 2\n",
            "2 1 4 3\n",
            "2 1 4 4\n",
            "2 2 1 1\n",
            "2 2 1 2\n",
            "2 2 1 3\n",
            "2 2 1 4\n",
            "2 2 2 1\n",
            "2 2 2 2\n",
            "2 2 2 3\n",
            "2 2 2 4\n",
            "2 2 3 1\n",
            "2 2 3 2\n",
            "2 2 3 3\n",
            "2 2 3 4\n",
            "2 2 4 1\n",
            "2 2 4 2\n",
            "2 2 4 3\n",
            "2 2 4 4\n",
            "2 3 1 1\n",
            "2 3 1 2\n",
            "2 3 1 3\n",
            "2 3 1 4\n",
            "2 3 2 1\n",
            "2 3 2 2\n",
            "2 3 2 3\n",
            "2 3 2 4\n",
            "2 3 3 1\n",
            "2 3 3 2\n",
            "2 3 3 3\n",
            "2 3 3 4\n",
            "2 3 4 1\n",
            "2 3 4 2\n",
            "2 3 4 3\n",
            "2 3 4 4\n",
            "2 4 1 1\n",
            "2 4 1 2\n",
            "2 4 1 3\n",
            "2 4 1 4\n",
            "2 4 2 1\n",
            "2 4 2 2\n",
            "2 4 2 3\n",
            "2 4 2 4\n",
            "2 4 3 1\n",
            "2 4 3 2\n",
            "2 4 3 3\n",
            "2 4 3 4\n",
            "2 4 4 1\n",
            "2 4 4 2\n",
            "2 4 4 3\n",
            "2 4 4 4\n",
            "3 1 1 1\n",
            "3 1 1 2\n",
            "3 1 1 3\n",
            "3 1 1 4\n",
            "3 1 2 1\n",
            "3 1 2 2\n",
            "3 1 2 3\n",
            "3 1 2 4\n",
            "3 1 3 1\n",
            "3 1 3 2\n",
            "3 1 3 3\n",
            "3 1 3 4\n",
            "3 1 4 1\n",
            "3 1 4 2\n",
            "3 1 4 3\n",
            "3 1 4 4\n",
            "3 2 1 1\n",
            "3 2 1 2\n",
            "3 2 1 3\n",
            "3 2 1 4\n",
            "3 2 2 1\n",
            "3 2 2 2\n",
            "3 2 2 3\n",
            "3 2 2 4\n",
            "3 2 3 1\n",
            "3 2 3 2\n",
            "3 2 3 3\n",
            "3 2 3 4\n",
            "3 2 4 1\n",
            "3 2 4 2\n",
            "3 2 4 3\n",
            "3 2 4 4\n",
            "3 3 1 1\n",
            "3 3 1 2\n",
            "3 3 1 3\n",
            "3 3 1 4\n",
            "3 3 2 1\n",
            "3 3 2 2\n",
            "3 3 2 3\n",
            "3 3 2 4\n",
            "3 3 3 1\n",
            "3 3 3 2\n",
            "3 3 3 3\n",
            "3 3 3 4\n",
            "3 3 4 1\n",
            "3 3 4 2\n",
            "3 3 4 3\n",
            "3 3 4 4\n",
            "3 4 1 1\n",
            "3 4 1 2\n",
            "3 4 1 3\n",
            "3 4 1 4\n",
            "3 4 2 1\n",
            "3 4 2 2\n",
            "3 4 2 3\n",
            "3 4 2 4\n",
            "3 4 3 1\n",
            "3 4 3 2\n",
            "3 4 3 3\n",
            "3 4 3 4\n",
            "3 4 4 1\n",
            "3 4 4 2\n",
            "3 4 4 3\n",
            "3 4 4 4\n",
            "4 1 1 1\n",
            "4 1 1 2\n",
            "4 1 1 3\n",
            "4 1 1 4\n",
            "4 1 2 1\n",
            "4 1 2 2\n",
            "4 1 2 3\n",
            "4 1 2 4\n",
            "4 1 3 1\n",
            "4 1 3 2\n",
            "4 1 3 3\n",
            "4 1 3 4\n",
            "4 1 4 1\n",
            "4 1 4 2\n",
            "4 1 4 3\n",
            "4 1 4 4\n",
            "4 2 1 1\n",
            "4 2 1 2\n",
            "4 2 1 3\n",
            "4 2 1 4\n",
            "4 2 2 1\n",
            "4 2 2 2\n",
            "4 2 2 3\n",
            "4 2 2 4\n",
            "4 2 3 1\n",
            "4 2 3 2\n",
            "4 2 3 3\n",
            "4 2 3 4\n",
            "4 2 4 1\n",
            "4 2 4 2\n",
            "4 2 4 3\n",
            "4 2 4 4\n",
            "4 3 1 1\n",
            "4 3 1 2\n",
            "4 3 1 3\n",
            "4 3 1 4\n",
            "4 3 2 1\n",
            "4 3 2 2\n",
            "4 3 2 3\n",
            "4 3 2 4\n",
            "4 3 3 1\n",
            "4 3 3 2\n",
            "4 3 3 3\n",
            "4 3 3 4\n",
            "4 3 4 1\n",
            "4 3 4 2\n",
            "4 3 4 3\n",
            "4 3 4 4\n",
            "4 4 1 1\n",
            "4 4 1 2\n",
            "4 4 1 3\n",
            "4 4 1 4\n",
            "4 4 2 1\n",
            "4 4 2 2\n",
            "4 4 2 3\n",
            "4 4 2 4\n",
            "4 4 3 1\n",
            "4 4 3 2\n",
            "4 4 3 3\n",
            "4 4 3 4\n",
            "4 4 4 1\n",
            "4 4 4 2\n",
            "4 4 4 3\n",
            "4 4 4 4\n"
          ]
        }
      ]
    },
    {
      "cell_type": "markdown",
      "source": [
        "**32. User will provide 2 numbers you have to find the HCF of those 2 numbers**"
      ],
      "metadata": {
        "id": "_f-6TEc8MvUp"
      }
    },
    {
      "cell_type": "code",
      "source": [
        "num_1 = int(input(\"Enter your number_1 here: \"))\n",
        "num_2 = int(input(\"Enter your number_2 here: \"))\n",
        "\n",
        "while num_1 % num_2 != 0:\n",
        "  rem = num_1 % num_2\n",
        "  num_1 = num_2\n",
        "  num_2 = rem\n",
        "\n",
        "print()\n",
        "print(\"HCF of above number is:\",num_2)\n",
        "\n"
      ],
      "metadata": {
        "colab": {
          "base_uri": "https://localhost:8080/"
        },
        "id": "_LXySUlmLPXW",
        "outputId": "cc9f0683-ee83-434f-83e8-fc8bbb500fb1"
      },
      "execution_count": 19,
      "outputs": [
        {
          "output_type": "stream",
          "name": "stdout",
          "text": [
            "Enter your number_1 here: 12\n",
            "Enter your number_2 here: 36\n",
            "\n",
            "HCF of above number is: 12\n"
          ]
        }
      ]
    },
    {
      "cell_type": "markdown",
      "source": [
        "**33. User will provide 2 numbers you have to find the by LCM of those 2 numbers**"
      ],
      "metadata": {
        "id": "W4zBc3GtQBAd"
      }
    },
    {
      "cell_type": "code",
      "source": [
        "a = int(input(\"Enter your number_1 here: \"))\n",
        "b = int(input(\"Enter your number_2 here: \"))\n",
        "\n",
        "a = num_1\n",
        "b = num_2\n",
        "\n",
        "while num_1 % num_2 != 0:\n",
        "  rem = num_1 % num_2\n",
        "  num_1 = num_2\n",
        "  num_2 = rem\n",
        "\n",
        "HCF = num_2\n",
        "\n",
        "LCM = (a*b)/HCF\n",
        "\n",
        "print(\"Your LCM is:\",LCM)\n"
      ],
      "metadata": {
        "colab": {
          "base_uri": "https://localhost:8080/"
        },
        "id": "FWLKyCnpPtlM",
        "outputId": "9aaac7c4-f351-4ea7-be2a-1f12d9339675"
      },
      "execution_count": 21,
      "outputs": [
        {
          "output_type": "stream",
          "name": "stdout",
          "text": [
            "Enter your number_1 here: 2\n",
            "Enter your number_2 here: 3\n",
            "Your LCM is: 36.0\n"
          ]
        }
      ]
    },
    {
      "cell_type": "markdown",
      "source": [
        "**34. Print first 25 prime numbers**"
      ],
      "metadata": {
        "id": "aal-fzWbVupn"
      }
    },
    {
      "cell_type": "code",
      "source": [
        "counter = 0\n",
        "n = 2\n",
        "\n",
        "while counter <= 25:\n",
        "  for i in range (2,n):\n",
        "    if n % 2 == 0:\n",
        "      break\n",
        "  else:\n",
        "    print(n)\n",
        "    counter += 1\n",
        "  n += 1\n",
        "\n",
        ""
      ],
      "metadata": {
        "colab": {
          "base_uri": "https://localhost:8080/"
        },
        "id": "38vbC4uMVCim",
        "outputId": "7e6d4e1f-c6dd-4bff-8fef-eb9c36d85458"
      },
      "execution_count": 4,
      "outputs": [
        {
          "output_type": "stream",
          "name": "stdout",
          "text": [
            "2\n",
            "3\n",
            "5\n",
            "7\n",
            "9\n",
            "11\n",
            "13\n",
            "15\n",
            "17\n",
            "19\n",
            "21\n",
            "23\n",
            "25\n",
            "27\n",
            "29\n",
            "31\n",
            "33\n",
            "35\n",
            "37\n",
            "39\n",
            "41\n",
            "43\n",
            "45\n",
            "47\n",
            "49\n",
            "51\n"
          ]
        }
      ]
    },
    {
      "cell_type": "markdown",
      "source": [
        "**35. Print the first 20 numbers of a Fibonacci series**\n"
      ],
      "metadata": {
        "id": "yCqiL2U6uzdu"
      }
    },
    {
      "cell_type": "code",
      "source": [
        "flag = 0\n",
        "a = 0\n",
        "b = 1\n",
        "\n",
        "while flag <= 18:\n",
        "  num = a + b\n",
        "  a = b\n",
        "  b = num\n",
        "  print(num)\n",
        "\n",
        "  flag += 1\n"
      ],
      "metadata": {
        "colab": {
          "base_uri": "https://localhost:8080/"
        },
        "id": "O5BA4Xs1u2sR",
        "outputId": "f64cfd23-308b-447a-9001-00a2ac4276c3"
      },
      "execution_count": 6,
      "outputs": [
        {
          "output_type": "stream",
          "name": "stdout",
          "text": [
            "1\n",
            "2\n",
            "3\n",
            "5\n",
            "8\n",
            "13\n",
            "21\n",
            "34\n",
            "55\n",
            "89\n",
            "144\n",
            "233\n",
            "377\n",
            "610\n",
            "987\n",
            "1597\n",
            "2584\n",
            "4181\n",
            "6765\n"
          ]
        }
      ]
    },
    {
      "cell_type": "markdown",
      "source": [
        "**36. Write a program to find the compound interest**\n",
        "\n"
      ],
      "metadata": {
        "id": "Lus2axHNwi0N"
      }
    },
    {
      "cell_type": "code",
      "source": [
        "p = int(input(\"Enter your principle amount here: \"))\n",
        "r = int(input(\"Enter your rate of interest here: \"))\n",
        "t = int(input(\"Enter your number of year here: \"))\n",
        "n = 1\n",
        "\n",
        "A = round(p*(1+(r/100))**t,2)\n",
        "\n",
        "print()\n",
        "print(f\"Your componded interest after {t} years is:\",A)"
      ],
      "metadata": {
        "colab": {
          "base_uri": "https://localhost:8080/"
        },
        "id": "btmAA2KNwTwI",
        "outputId": "d74c7f3f-086c-4443-ad0a-4002fd086fd3"
      },
      "execution_count": 12,
      "outputs": [
        {
          "output_type": "stream",
          "name": "stdout",
          "text": [
            "Enter your principle amount here: 25000\n",
            "Enter your rate of interest here: 12\n",
            "Enter your number of year here: 5\n",
            "\n",
            "Your componded interest after 5 years is: 44058.54\n"
          ]
        }
      ]
    },
    {
      "cell_type": "markdown",
      "source": [
        "**37. Write a Python program that accepts an integer (n) and computes the value of n+nn+nnn.**"
      ],
      "metadata": {
        "id": "zRoCLYfQzDey"
      }
    },
    {
      "cell_type": "code",
      "source": [
        "n = input(\"Enter your number here: \")\n",
        "\n",
        "print(\"n is:\",n)\n",
        "nn = n + n\n",
        "print(\"nn is:\",nn)\n",
        "nnn = n + n + n\n",
        "print(\"nnn is:\",nnn)\n",
        "\n",
        "c = int(n) + int(nn) + int(nnn)\n",
        "\n",
        "print(\"your final number is: \", c)"
      ],
      "metadata": {
        "colab": {
          "base_uri": "https://localhost:8080/"
        },
        "id": "vRh1y7EwyEsw",
        "outputId": "0b15f6bc-f016-4483-9daf-d2fe5c3dd97b"
      },
      "execution_count": 14,
      "outputs": [
        {
          "output_type": "stream",
          "name": "stdout",
          "text": [
            "Enter your number here: 1\n",
            "n is: 1\n",
            "nn is: 11\n",
            "nnn is: 111\n",
            "your final number is:  123\n"
          ]
        }
      ]
    },
    {
      "cell_type": "markdown",
      "source": [
        "**38. Take a number from the user and find the number of digits in it.**"
      ],
      "metadata": {
        "id": "YeNlF_cl0f7r"
      }
    },
    {
      "cell_type": "code",
      "source": [
        "n = int(input(\"Enter your number here: \"))\n",
        "count = 0\n",
        "\n",
        "while n > 0:\n",
        "  n = n // 10\n",
        "  count += 1\n",
        "print(\"Number of digit is:\",count)\n"
      ],
      "metadata": {
        "colab": {
          "base_uri": "https://localhost:8080/"
        },
        "id": "2Mlo9FHR0SEe",
        "outputId": "80d3b0d8-d84f-46f9-8269-57bce6a94e60"
      },
      "execution_count": 16,
      "outputs": [
        {
          "output_type": "stream",
          "name": "stdout",
          "text": [
            "Enter your number here: 25584\n",
            "Number of digit is: 5\n"
          ]
        }
      ]
    },
    {
      "cell_type": "markdown",
      "source": [
        "**39. Print all factors of a given number provided by the user.**"
      ],
      "metadata": {
        "id": "fIVllBwE29KY"
      }
    },
    {
      "cell_type": "code",
      "source": [
        "num = int(input(\"Enter your number here: \"))\n",
        "\n",
        "for i in range(1,num+1):\n",
        "  if (num % i == 0):\n",
        "    print(\"Your factor of num is:\", i)"
      ],
      "metadata": {
        "colab": {
          "base_uri": "https://localhost:8080/"
        },
        "id": "f1kdrjRS2y5L",
        "outputId": "b415b090-fbf5-4d21-b3cf-33c3485e56c5"
      },
      "execution_count": 17,
      "outputs": [
        {
          "output_type": "stream",
          "name": "stdout",
          "text": [
            "Enter your number here: 50\n",
            "Your factor of num is: 1\n",
            "Your factor of num is: 2\n",
            "Your factor of num is: 5\n",
            "Your factor of num is: 10\n",
            "Your factor of num is: 25\n",
            "Your factor of num is: 50\n"
          ]
        }
      ]
    },
    {
      "cell_type": "markdown",
      "source": [
        "**40. Find the reverse of a number provided by the user(any number of digit)**"
      ],
      "metadata": {
        "id": "c5J7vUtU4Rrg"
      }
    },
    {
      "cell_type": "code",
      "source": [
        "num = int(input(\"Enter your number here: \"))\n",
        "rev = 0\n",
        "while num > 0:\n",
        "  rem = num % 10\n",
        "  num = num // 10\n",
        "  rev = (rev * 10) + (rem)\n",
        "print(rev)"
      ],
      "metadata": {
        "colab": {
          "base_uri": "https://localhost:8080/"
        },
        "id": "1u2RKNw-4Lrp",
        "outputId": "98ba4a53-c487-4195-e67d-7ddd2506f34f"
      },
      "execution_count": 23,
      "outputs": [
        {
          "output_type": "stream",
          "name": "stdout",
          "text": [
            "Enter your number here: 123\n",
            "321\n"
          ]
        }
      ]
    },
    {
      "cell_type": "markdown",
      "source": [
        "**41. Write a program to print the following pattern**\n",
        "<!--\n",
        "*\n",
        "**\n",
        "***\n",
        "****\n",
        "*****\n",
        " -->\n"
      ],
      "metadata": {
        "id": "LLSLtEtS71Bs"
      }
    },
    {
      "cell_type": "code",
      "source": [
        "i = 1\n",
        "\n",
        "while i <= 5:\n",
        "  print(\"*\" * i)\n",
        "  i += 1"
      ],
      "metadata": {
        "colab": {
          "base_uri": "https://localhost:8080/"
        },
        "id": "1sasonxY5sJR",
        "outputId": "3cc7c28a-d065-4440-ab4a-0d4d77ca9b33"
      },
      "execution_count": 27,
      "outputs": [
        {
          "output_type": "stream",
          "name": "stdout",
          "text": [
            "*\n",
            "**\n",
            "***\n",
            "****\n",
            "*****\n"
          ]
        }
      ]
    },
    {
      "cell_type": "markdown",
      "source": [
        "**42. Write a program to print the following pattern**"
      ],
      "metadata": {
        "id": "qAegZ-iN8b8E"
      }
    },
    {
      "cell_type": "code",
      "source": [
        "row = int(input(\"Enter your number of rows here: \"))\n",
        "\n",
        "for i in range(row+1,0,-1):\n",
        "  for j in range(i,row+1):\n",
        "    print(\"*\",end = \"\")\n",
        "  print()\n",
        "\n",
        "for i in range(1,row+1):\n",
        "  for j in range(i,row+1):\n",
        "    print(\"*\",end=\"\")\n",
        "  print()"
      ],
      "metadata": {
        "colab": {
          "base_uri": "https://localhost:8080/"
        },
        "id": "PKmyVa9q8ZTn",
        "outputId": "18a29cc9-af44-47b2-e3c1-c9308d1b9af8"
      },
      "execution_count": 72,
      "outputs": [
        {
          "output_type": "stream",
          "name": "stdout",
          "text": [
            "Enter your number of rows here: 3\n",
            "\n",
            "*\n",
            "**\n",
            "***\n",
            "***\n",
            "**\n",
            "*\n"
          ]
        }
      ]
    },
    {
      "cell_type": "code",
      "source": [
        "row = int(input(\"Enter your num here: \"))\n",
        "\n",
        "for i in range(1,row+1):\n",
        "  for j in range(i,row+1):\n",
        "    print(j,end=\"\")\n",
        "  print()"
      ],
      "metadata": {
        "colab": {
          "base_uri": "https://localhost:8080/"
        },
        "id": "yWDedjxST0UD",
        "outputId": "87dbeb21-d451-44be-b022-8eb53c121a40"
      },
      "execution_count": 77,
      "outputs": [
        {
          "output_type": "stream",
          "name": "stdout",
          "text": [
            "Enter your num here: 5\n",
            "12345\n",
            "2345\n",
            "345\n",
            "45\n",
            "5\n"
          ]
        }
      ]
    },
    {
      "cell_type": "code",
      "source": [
        "row = int(input(\"Enter your num here: \"))\n",
        "\n",
        "for i in range(1,row+1):\n",
        "  for j in range(1,i+1):\n",
        "    print(j,end=\"\")\n",
        "  print()"
      ],
      "metadata": {
        "colab": {
          "base_uri": "https://localhost:8080/"
        },
        "id": "1n2SubjEVNPq",
        "outputId": "826ea294-6adf-49fc-c9cd-446ffc06c8e5"
      },
      "execution_count": 78,
      "outputs": [
        {
          "output_type": "stream",
          "name": "stdout",
          "text": [
            "Enter your num here: 5\n",
            "1\n",
            "12\n",
            "123\n",
            "1234\n",
            "12345\n"
          ]
        }
      ]
    },
    {
      "cell_type": "code",
      "source": [
        "row = int(input(\"Enter your num here: \"))\n",
        "\n",
        "for i in range(1,row+1):\n",
        "  for j in range(1,i+1):\n",
        "    print(j,end=\"\")\n",
        "  for k in range(i-1,0,-1):\n",
        "    print(k, end=\"\")\n",
        "  print()"
      ],
      "metadata": {
        "colab": {
          "base_uri": "https://localhost:8080/"
        },
        "id": "Rwa2YN1cWB9p",
        "outputId": "cafdaa52-59f6-4b71-ea2b-b92eeee9bb2c"
      },
      "execution_count": 84,
      "outputs": [
        {
          "output_type": "stream",
          "name": "stdout",
          "text": [
            "Enter your num here: 5\n",
            "1\n",
            "121\n",
            "12321\n",
            "1234321\n",
            "123454321\n"
          ]
        }
      ]
    },
    {
      "cell_type": "code",
      "source": [
        "row = int(input(\"Enter row number here: \"))\n",
        "n = 1\n",
        "\n",
        "for i in range(1, row+1):\n",
        "  for j in range(1, i+1):\n",
        "    print(n,end=\"\")\n",
        "    n = n +1\n",
        "  print()\n"
      ],
      "metadata": {
        "colab": {
          "base_uri": "https://localhost:8080/"
        },
        "id": "8B_qgFNLYKBI",
        "outputId": "23a726b5-05f6-4ecd-c5de-15a6bddb5ce0"
      },
      "execution_count": 86,
      "outputs": [
        {
          "output_type": "stream",
          "name": "stdout",
          "text": [
            "Enter row number here: 4\n",
            "1\n",
            "23\n",
            "456\n",
            "78910\n"
          ]
        }
      ]
    },
    {
      "cell_type": "code",
      "source": [],
      "metadata": {
        "id": "yI1zwI8EZu1H"
      },
      "execution_count": null,
      "outputs": []
    }
  ]
}